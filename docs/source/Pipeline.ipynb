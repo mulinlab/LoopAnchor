{
 "cells": [
  {
   "cell_type": "markdown",
   "id": "3c3e3aa3-fe35-4516-ae7f-8ae5e3bfcbef",
   "metadata": {
    "tags": []
   },
   "source": [
    "# LoopAnchor pipeline\n",
    "\n",
    "CTCF is the most important Transcription Factor (TF) for genomic insulation in vertebrate. But it is also a versatile TF that plays several other roles in transcriptional regulation. Here we present DeepAnchor to provide precise description of the genomic/epigenomic patterns surrounding insulation-related CTCF binding sites (CBSs). Generally, DeepAnchor usees cohesin ChIA-PET data, CTCF ChIP-seq data and CBSs predicted by motif scan as input, to train a classifier to distinguish insulation-related CBSs from others. DeepAnchor then calculates a score ranged from [0, 1] for all CBSs, with a larger value meaning more likely to be a positive CTCF insulator.\n"
   ]
  },
  {
   "cell_type": "markdown",
   "id": "70678357-da30-495c-897f-fe93e97e806f",
   "metadata": {},
   "source": [
    "## Prepare data\n",
    "To implement DeepAnchor, one should prepare four types of data:\n",
    "1. Obtain CBSs by motif scanning.  \n",
    "2. Download base-wise genomic/epigenomic features from [CADD v1.3](https://cadd.gs.washington.edu/download). Here we also provide preprocessed CADD features for CTCF binding sites.  \n",
    "3. CTCF ChIP-seq data for specific cell type (for example GM12878).  \n",
    "4. Cohesin ChIA-PET data for the same cell type.   "
   ]
  },
  {
   "cell_type": "markdown",
   "id": "9de9747c-2f98-4118-b10d-2acdea3c2e1b",
   "metadata": {},
   "source": [
    "## Generate training data\n",
    "### 1. Extract feature values\n",
    "We totally use 44 genomic/epigenomic features from CADD database and 4 DNA sequence feature (A/T/G/C). For each CBS and each feature, ±500bp feature values are extracted. Therefore, the size of feature matrix for each CBS is 48 x 1000. Feature matrix is strandardized to facilitate downstream analyses. However, this step is very time consuming. So we provide the preprocessed feature matrix data which can be downloaded from here: [cadd feature matrix](http://www.mulinlab.org/LoopAnchor/cadd_feature.npz) and [dna feature matrix](http://www.mulinlab.org/LoopAnchor/dna_feature.npz)."
   ]
  },
  {
   "cell_type": "markdown",
   "id": "663113d9-675c-44a1-8e2f-1a90b8bdf6a7",
   "metadata": {},
   "source": [
    "### 2. Generate positive/negative CBSs\n",
    "We need create a work_dir with structure as below and put five data files within it.\n",
    "```\n",
    "work_dir\n",
    "    └── raw                   \n",
    "        ├── CTCF_peak.bed.gz              \n",
    "        ├── target.bed              \n",
    "        ├── cbs.tsv \n",
    "        ├── dna_feature.npz      \n",
    "        └── cadd_feature.npz\n",
    "```\n",
    "More explainations of data requirement:\n",
    "\n",
    "CTCF_peak.bed.gz:   \n",
    "    (1) the ChIP-seq narrowPeak file for CTCF.  \n",
    "    (2) Columns: chrom,chromStart,chromEnd,name,score,strand,signalValue,pValue,qValue,summit.  \n",
    "\n",
    "target.bed:  \n",
    "    (1) Targeted chromosome intervals for CTCF binding sites.  \n",
    "    (2) Columns: chrom,start,end.  \n",
    " \n",
    "cbs.tsv:  \n",
    "    (1) position of all CTCF binding sites.  \n",
    "    (2) non-cell-type specific.  \n",
    "    (3) can be found in data folder.  \n",
    "\n",
    "dna_feature.npz:  \n",
    "    (1) one-hot representation of DNA sequence for CTCF binding sites.  \n",
    "    (2) non-cell-type specific.  \n",
    "    (3) downloaded as addressed in last section.  \n",
    "\n",
    "cadd_feature.npz:  \n",
    "    (1) cadd features of DNA sequence for CTCF binding sites.  \n",
    "    (2) non-cell-type specific.  \n",
    "    (3) downloaded as addressed in last section.  \n",
    "\n",
    "To generate P/N dataset, you can simply run following command:\n",
    "```properties\n",
    "python DeepAnchor_input.py work_dir\n",
    "```\n",
    "\n",
    "\n",
    "It will generate an output folder named DeepAnchor in work_dir:\n",
    "```\n",
    "work_dir\n",
    "    └── DeepAnchor  \n",
    "        ├── CTCF_peaks.bed           # intersect CTCF_peak.bed.gz and cbs.tsv\n",
    "        ├── marked_cbs.tsv           # mark CBSs with CTCF ChIP-seq peaks          \n",
    "        ├── train.npz                # train set (chr1-16)\n",
    "        ├── valid.npz                # valid set (chr17-18)\n",
    "        ├── test.npz                 # test set (chr19-X)                 \n",
    "        └── total.npz                # feature data for all CBSs\n",
    "```     \n"
   ]
  },
  {
   "cell_type": "markdown",
   "id": "82bc51d1-3185-494f-834e-ec9f52c43f44",
   "metadata": {},
   "source": [
    "### 3. Run DeepAnchor\n",
    "DeepAnchor trains a classifier to distinguish insulator-related CBSs from others. After training, the model will be used to predict DeepAnchor score to show the possibility that each CBS belong to insulator-related CBSs. \n",
    "\n",
    "To train the classifier model, run command:\n",
    "```properties\n",
    "python DeepAnchor.py  work_dir train\n",
    "```\n",
    "This will generate a DeepAnchor model which will be saved in DeepAnchor.model in work_dir.\n",
    "\n",
    "To predict the DeepAnchor score for all CBSs, run command:\n",
    "\n",
    "```properties\n",
    "python DeepAnchor.py  work_dir predict\n",
    "```\n",
    "\n",
    "This will generate a file *scored_cbs.tsv* that contain all CBSs and their DeepAnchor score. We need to copy this file to ./data/ folder for downstream analyses.\n",
    "\n",
    "The data columns of *scored_cbs.tsv* are shown below:  \n",
    "\n",
    "|chrom|start|end|strand|score|anchor_score|\n",
    "|-----|-----|---|------|-----|------------|\n",
    "\n",
    "*score*: the score for motif scan.\n",
    "*anchor_score*: the score predicted by DeepAnchor model.\n"
   ]
  },
  {
   "cell_type": "markdown",
   "id": "b7101d62-6919-46c1-adfa-6e6b88f4340f",
   "metadata": {},
   "source": [
    "### 4. Run LoopAnchor to make loop prediction\n",
    "\n",
    "To use LoopAnchor for loop prediction, you should prepare input data arranged as follow:\n",
    "\n",
    "```\n",
    "work_dir\n",
    "    └── raw                   \n",
    "        └── CTCF_peak.bed.gz\n",
    "```\n",
    "\n",
    "Run command:\n",
    "```properties\n",
    "python run_LoopAnchor_denovo.py  work_dir\n",
    "```\n",
    "In work_dir/LoopAnchor folder, you can find the result LoopAnchor_pred.bedpe which contains all the loops predicted by LoopAnchor.LoopAnchor files is arranged in bedpe format and the last column is the predicted loop intensity.\n",
    "\n",
    "|chrom1|start1|end1|chrom2|start2|end2|name|score|strand1|strand2|LoopAnchor|\n",
    "|------|------|----|------|------|----|----|-----|-------|-------|----------|\n",
    "\n",
    "\n",
    "\n",
    "Here is a complete example. The data can be found in ./data/ folder, but you still need to download some files as shown before.\n",
    "```properties\n",
    "python DeepAnchor_input.py ./data/GM12878\n",
    "python DeepAnchor.py ./data/GM12878 train\n",
    "python DeepAnchor.py ./data/GM12878 predict\n",
    "python run_LoopAnchor_denovo.py ./data/K562\n",
    "```\n",
    "\n"
   ]
  },
  {
   "cell_type": "markdown",
   "id": "1001f7cf-15c6-43e1-a5ec-6eb96aba855d",
   "metadata": {},
   "source": [
    "## Landscape availability\n",
    "We collected 764 available CTCF ChIP-seq data from ENCODE, CistromDB and ChIP-Atlas and use LoopAnchor to predict CTCF-anchored loops. The results are available at UCSC Track Data Hubs (https://genome.ucsc.edu/cgi-bin/hgHubConnect) by entering customized hub URLs https://raw.githubusercontent.com/mulinlab/LoopAnchor/master/hubs_landscape.txt or https://raw.githubusercontent.com/mulinlab/LoopAnchor/master/hubs_all.txt, respectively.\n"
   ]
  }
 ],
 "metadata": {
  "kernelspec": {
   "display_name": "Python 3 (ipykernel)",
   "language": "python",
   "name": "python3"
  },
  "language_info": {
   "codemirror_mode": {
    "name": "ipython",
    "version": 3
   },
   "file_extension": ".py",
   "mimetype": "text/x-python",
   "name": "python",
   "nbconvert_exporter": "python",
   "pygments_lexer": "ipython3",
   "version": "3.9.12"
  }
 },
 "nbformat": 4,
 "nbformat_minor": 5
}
