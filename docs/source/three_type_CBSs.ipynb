{
 "cells": [
  {
   "cell_type": "markdown",
   "id": "76e37e39-026a-40a8-8410-b61745877b47",
   "metadata": {},
   "source": [
    "# Train DeepAnchor with three types of data\n",
    "\n",
    "In LoopAnchor manuscript we showed that DeepAnchor model can be trained with different type of CBSs. Here we provide the reproducible code for this part. \n",
    "\n",
    "We included 3 cell lines (GM12878, H1, K562), and 3 different CBSs (associated with ChromHMM insulator, Cohesin ChIP-seq peaks, Cohesin ChIA-PET loops). The input files have been put under ./loopanchor/data/three_type_CBSs.\n",
    "\n",
    "## run DeepAnchor\n",
    "For each cell line and each type of CBSs, follow the instructions in Pipeline.ipynb to prepare the input and run DeepAnchor. \n",
    "\n",
    "**Prepare input**:  \n",
    "python DeepAnchor_input.py work_dir  \n",
    "\n",
    "**Train**:   \n",
    "python DeepAnchor.py work_dir train  \n",
    "\n",
    "**Predict**:   \n",
    "python DeepAnchor.py work_dir predict   \n",
    "\n",
    "You only need to specify work_dir. For example, the work_dir can be ./data/three_type_CBSs/DeepAnchor_ChromHMM_GM12878.\n",
    "\n",
    "\n",
    "## output\n",
    "The prediction score of each sample has been stored in **scored_motif.tsv**, which can be found in ./loopanchor/data/three_type_CBSs/{sample_name}."
   ]
  },
  {
   "cell_type": "code",
   "execution_count": null,
   "id": "20b7dcce-b720-41c5-b948-aa94daf2f00e",
   "metadata": {},
   "outputs": [],
   "source": []
  }
 ],
 "metadata": {
  "kernelspec": {
   "display_name": "Python 3 (ipykernel)",
   "language": "python",
   "name": "python3"
  },
  "language_info": {
   "codemirror_mode": {
    "name": "ipython",
    "version": 3
   },
   "file_extension": ".py",
   "mimetype": "text/x-python",
   "name": "python",
   "nbconvert_exporter": "python",
   "pygments_lexer": "ipython3",
   "version": "3.9.12"
  }
 },
 "nbformat": 4,
 "nbformat_minor": 5
}
